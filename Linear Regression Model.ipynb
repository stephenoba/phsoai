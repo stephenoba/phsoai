{
 "cells": [
  {
   "cell_type": "code",
   "execution_count": 80,
   "metadata": {},
   "outputs": [],
   "source": [
    "import numpy as np\n",
    "\n",
    "class LinearModel:\n",
    "    def __init__(self, *args):\n",
    "        self.x = None\n",
    "        self.y = None\n",
    "        \n",
    "    def train(self, x, y):\n",
    "        self.x = np.array(x)\n",
    "        self.y = np.array(y)\n",
    "        self.n = len(x)\n",
    "        self.x_sum = (self.x).sum()\n",
    "        self.y_sum = (self.y).sum()\n",
    "        self.sum_xy = (self.x*self.y).sum()\n",
    "        self.x_squared_sum = (self.x**2).sum()\n",
    "        self.nume = (self.n*self.sum_xy)-(self.x_sum*self.y_sum)\n",
    "        self.denum = (self.n*self.x_squared_sum)-(self.x_sum**2)\n",
    "        self.coef_ = self.nume/self.denum\n",
    "        self.intercept_ = (self.y).mean() - self.coef_*(self.x).mean()\n",
    "        \n",
    "    def predict(self, x):\n",
    "        return self.intercept_+(self.coef_*np.array(x))\n",
    "    \n",
    "        \n",
    "    def loss(self, x, y):\n",
    "        x_actual = np.array(x)\n",
    "        y_actual = np.array(y)\n",
    "        y_cap = self.predict(x_)\n",
    "        nume = ((y_actual-y_cap)**2).sum()\n",
    "        denum  = len(x_)\n",
    "        \n",
    "        return nume/denum"
   ]
  },
  {
   "cell_type": "code",
   "execution_count": 81,
   "metadata": {},
   "outputs": [],
   "source": [
    "model1 = LinearModel()"
   ]
  },
  {
   "cell_type": "code",
   "execution_count": 82,
   "metadata": {},
   "outputs": [],
   "source": [
    "data = np.array([[4.2, 8.4],\n",
    "                [2.7, 6.2],\n",
    "                [8.9, 12.5],\n",
    "                [8.2, 10.5],\n",
    "                [10.2, 13.0]])"
   ]
  },
  {
   "cell_type": "code",
   "execution_count": 83,
   "metadata": {},
   "outputs": [],
   "source": [
    "x = data[:,0]\n",
    "y = data[:,1]"
   ]
  },
  {
   "cell_type": "code",
   "execution_count": 84,
   "metadata": {},
   "outputs": [
    {
     "data": {
      "text/plain": [
       "array([[15.012547  ],\n",
       "       [12.85152801]])"
      ]
     },
     "execution_count": 84,
     "metadata": {},
     "output_type": "execute_result"
    }
   ],
   "source": [
    "model1.train(x,y)\n",
    "model1.predict([[12.5], [10]])"
   ]
  },
  {
   "cell_type": "code",
   "execution_count": 85,
   "metadata": {},
   "outputs": [
    {
     "data": {
      "text/plain": [
       "0.28503142774510715"
      ]
     },
     "execution_count": 85,
     "metadata": {},
     "output_type": "execute_result"
    }
   ],
   "source": [
    "model1.loss(x,y)"
   ]
  },
  {
   "cell_type": "code",
   "execution_count": null,
   "metadata": {},
   "outputs": [],
   "source": []
  }
 ],
 "metadata": {
  "kernelspec": {
   "display_name": "Python 3",
   "language": "python",
   "name": "python3"
  },
  "language_info": {
   "codemirror_mode": {
    "name": "ipython",
    "version": 3
   },
   "file_extension": ".py",
   "mimetype": "text/x-python",
   "name": "python",
   "nbconvert_exporter": "python",
   "pygments_lexer": "ipython3",
   "version": "3.7.4"
  }
 },
 "nbformat": 4,
 "nbformat_minor": 2
}
